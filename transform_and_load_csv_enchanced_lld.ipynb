{
 "cells": [
  {
   "cell_type": "markdown",
   "id": "0cbeec10-6ff4-4901-9949-183ec0ff2d75",
   "metadata": {},
   "source": [
    "### This scripts transforms and loads the Enhanced Loan-Level Data csv files to the database."
   ]
  },
  {
   "cell_type": "code",
   "execution_count": null,
   "id": "f51f9485-0ca7-4520-bf1d-b7f320732567",
   "metadata": {},
   "outputs": [],
   "source": [
    "import pandas as pd\n",
    "from sqlalchemy import create_engine\n",
    "import os\n",
    "import configparser\n",
    "\n",
    "# Function to drop entirely empty columns\n",
    "def drop_empty_columns(df):\n",
    "    return df.dropna(axis=1, how='all')\n",
    "\n",
    "# Read database credentials and file directory from a config file\n",
    "config = configparser.ConfigParser()\n",
    "config.read('config.ini')\n",
    "\n",
    "# Database connection URL\n",
    "db_connection_url = f\"postgresql+psycopg2://{config['database']['user']}:{config['database']['password']}@{config['database']['host']}:{config['database']['port']}/{config['database']['database']}\"\n",
    "\n",
    "# Create a SQLAlchemy engine\n",
    "engine = create_engine(db_connection_url)\n",
    "\n",
    "# Directory where your CSV files are stored\n",
    "csv_folder_path = config['files']['enhanced_loan_level_dir']\n",
    "\n",
    "# Iterate over each file in the folder and insert data into the database\n",
    "for csv_file in os.listdir(csv_folder_path):\n",
    "    if csv_file.endswith('.csv'):\n",
    "        file_path = os.path.join(csv_folder_path, csv_file)\n",
    "\n",
    "        # Use Pandas to load the CSV file\n",
    "        df = pd.read_csv(file_path)\n",
    "\n",
    "        # Drop columns that are entirely empty\n",
    "        df = drop_empty_columns(df)\n",
    "\n",
    "        # Use 'to_sql' to insert the data into the database, it creates a table if it does not exist\n",
    "        df.to_sql('enhanced_loan_level_dir', engine, if_exists='append', index=False)\n",
    "\n",
    "print(\"Loading data completed. All empty columns were dropped.\")\n"
   ]
  }
 ],
 "metadata": {
  "kernelspec": {
   "display_name": "Python 3 (ipykernel)",
   "language": "python",
   "name": "python3"
  },
  "language_info": {
   "codemirror_mode": {
    "name": "ipython",
    "version": 3
   },
   "file_extension": ".py",
   "mimetype": "text/x-python",
   "name": "python",
   "nbconvert_exporter": "python",
   "pygments_lexer": "ipython3",
   "version": "3.9.0"
  }
 },
 "nbformat": 4,
 "nbformat_minor": 5
}
