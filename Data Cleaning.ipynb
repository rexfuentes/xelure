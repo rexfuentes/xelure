{
 "cells": [
  {
   "cell_type": "markdown",
   "id": "892d7f95-e39b-4217-bbb3-b170b4790f9f",
   "metadata": {},
   "source": [
    "### I used this script to check for csv files that contains the column \"Beginning Deferred Balance\", which apparently is not present in all the csv files of Enhanced Loan-Level Data."
   ]
  },
  {
   "cell_type": "code",
   "execution_count": null,
   "id": "9ec42547-14e6-4f59-822e-08d01c461959",
   "metadata": {},
   "outputs": [],
   "source": [
    "import pandas as pd\n",
    "import os\n",
    "\n",
    "# Directory where your CSV files are stored\n",
    "csv_folder_path = r\"C:\\Users\\Rex Fuentes\\Documents\\Data Engineering Case Study\\citigroup_case_study\\enhanced_loan_level_data\"  \n",
    "\n",
    "# Column name to check\n",
    "column_name = \"Beginning Deferred Balance\"\n",
    "\n",
    "# List to store names of files containing the column\n",
    "files_with_column = []\n",
    "\n",
    "# Iterate over each file in the folder\n",
    "for csv_file in os.listdir(csv_folder_path):\n",
    "    if csv_file.endswith('.csv'):\n",
    "        file_path = os.path.join(csv_folder_path, csv_file)\n",
    "\n",
    "        # Use Pandas to read the first row of the CSV file\n",
    "        df = pd.read_csv(file_path, nrows=1)\n",
    "\n",
    "        # Check if the column exists\n",
    "        if column_name in df.columns:\n",
    "            files_with_column.append(csv_file)\n",
    "\n",
    "# Display the list of files that contain the column\n",
    "print(\"Files containing the column '{}':\".format(column_name))\n",
    "for file in files_with_column:\n",
    "    print(file)\n"
   ]
  },
  {
   "cell_type": "markdown",
   "id": "17420d34-342d-437b-a810-ef195bc97efb",
   "metadata": {},
   "source": [
    "### This script is to check if the column Beginning Deferred Balance is empty in all the csv files that it is present."
   ]
  },
  {
   "cell_type": "code",
   "execution_count": null,
   "id": "ae27e582-fdb7-4809-902f-e946029a6964",
   "metadata": {},
   "outputs": [],
   "source": [
    "import pandas as pd\n",
    "import os\n",
    "\n",
    "# Directory where your CSV files are stored\n",
    "csv_folder_path = r\"C:\\Users\\Rex Fuentes\\Documents\\Data Engineering Case Study\\citigroup_case_study\\enhanced_loan_level_data\"  \n",
    "\n",
    "# Column name to check\n",
    "column_name = \"Beginning Deferred Balance\"\n",
    "\n",
    "# Lists to store names of files containing the column\n",
    "files_with_column = []\n",
    "files_with_empty_column = []\n",
    "\n",
    "# Iterate over each file in the folder\n",
    "for csv_file in os.listdir(csv_folder_path):\n",
    "    if csv_file.endswith('.csv'):\n",
    "        file_path = os.path.join(csv_folder_path, csv_file)\n",
    "\n",
    "        # Use Pandas to read the CSV file\n",
    "        df = pd.read_csv(file_path)\n",
    "\n",
    "        # Check if the column exists\n",
    "        if column_name in df.columns:\n",
    "            files_with_column.append(csv_file)\n",
    "\n",
    "            # Check if the column is entirely empty\n",
    "            if df[column_name].isnull().all():\n",
    "                files_with_empty_column.append(csv_file)\n",
    "\n",
    "# Display the list of files that contain the column\n",
    "print(\"Files containing the column '{}':\".format(column_name))\n",
    "for file in files_with_column:\n",
    "    print(file)\n",
    "\n",
    "# Display the list of files where the column is entirely empty\n",
    "print(\"\\nFiles with an entirely empty column '{}':\".format(column_name))\n",
    "for file in files_with_empty_column:\n",
    "    print(file)\n"
   ]
  },
  {
   "cell_type": "markdown",
   "id": "6838e6a1-d84b-43f0-8bd7-108570326198",
   "metadata": {},
   "source": [
    "### I realized that there may be columns that are present but empty across all files. This is the script that I used to detect those columns."
   ]
  },
  {
   "cell_type": "code",
   "execution_count": null,
   "id": "b80cc8e5-c9cf-4e3f-a263-8cd2e866c2fb",
   "metadata": {},
   "outputs": [],
   "source": [
    "import pandas as pd\n",
    "import os\n",
    "from collections import defaultdict\n",
    "\n",
    "# Directory where your CSV files are stored\n",
    "csv_folder_path = r\"C:\\Users\\Rex Fuentes\\Documents\\Data Engineering Case Study\\citigroup_case_study\\enhanced_loan_level_data\"  \n",
    "\n",
    "\n",
    "# Dictionary to keep track of empty columns across all files\n",
    "empty_columns = defaultdict(lambda: True)  # Assume all columns are empty initially\n",
    "\n",
    "# Iterate over each file in the folder\n",
    "for csv_file in os.listdir(csv_folder_path):\n",
    "    if csv_file.endswith('.csv'):\n",
    "        file_path = os.path.join(csv_folder_path, csv_file)\n",
    "\n",
    "        # Use Pandas to read the CSV file\n",
    "        df = pd.read_csv(file_path)\n",
    "\n",
    "        # Check each column in the DataFrame\n",
    "        for column in df.columns:\n",
    "            # If a column is found to be non-empty in any file, mark it as such\n",
    "            if empty_columns[column] and not df[column].isnull().all():\n",
    "                empty_columns[column] = False\n",
    "\n",
    "# Filter out the columns that are not empty in any file\n",
    "entirely_empty_columns = [col for col, is_empty in empty_columns.items() if is_empty]\n",
    "\n",
    "# Display the list of entirely empty columns across all files\n",
    "print(\"Entirely empty columns across all files:\")\n",
    "for col in entirely_empty_columns:\n",
    "    print(col)\n"
   ]
  },
  {
   "cell_type": "markdown",
   "id": "c11ad391-66e9-4331-b3ae-c1b42dcba633",
   "metadata": {},
   "source": [
    "### This is why I decided to drop those empty columns across all files below loading these csv files to the database."
   ]
  },
  {
   "cell_type": "code",
   "execution_count": null,
   "id": "2a76ffe8-9461-4525-ae01-69c7e7a9e18a",
   "metadata": {},
   "outputs": [],
   "source": [
    "import pandas as pd\n",
    "from sqlalchemy import create_engine\n",
    "import os\n",
    "import configparser\n",
    "\n",
    "# Function to drop entirely empty columns\n",
    "def drop_empty_columns(df):\n",
    "    return df.dropna(axis=1, how='all')\n",
    "\n",
    "# Read database credentials and file directory from a config file\n",
    "config = configparser.ConfigParser()\n",
    "config.read('config.ini')\n",
    "\n",
    "# Database connection URL\n",
    "db_connection_url = f\"postgresql+psycopg2://{config['database']['user']}:{config['database']['password']}@{config['database']['host']}:{config['database']['port']}/{config['database']['database']}\"\n",
    "\n",
    "# Create a SQLAlchemy engine\n",
    "engine = create_engine(db_connection_url)\n",
    "\n",
    "# Directory where your CSV files are stored\n",
    "csv_folder_path = config['files']['enhanced_loan_level_dir']\n",
    "\n",
    "# Iterate over each file in the folder and insert data into the database\n",
    "for csv_file in os.listdir(csv_folder_path):\n",
    "    if csv_file.endswith('.csv'):\n",
    "        file_path = os.path.join(csv_folder_path, csv_file)\n",
    "\n",
    "        # Use Pandas to load the CSV file\n",
    "        df = pd.read_csv(file_path)\n",
    "\n",
    "        # Drop columns that are entirely empty\n",
    "        df = drop_empty_columns(df)\n",
    "\n",
    "        # Use 'to_sql' to insert the data into the database, it creates a table if it does not exist\n",
    "        df.to_sql('enhanced_loan_level_dir', engine, if_exists='append', index=False)\n",
    "\n",
    "print(\"Loading data completed. All empty columns were dropped.\")\n"
   ]
  }
 ],
 "metadata": {
  "kernelspec": {
   "display_name": "Python 3 (ipykernel)",
   "language": "python",
   "name": "python3"
  },
  "language_info": {
   "codemirror_mode": {
    "name": "ipython",
    "version": 3
   },
   "file_extension": ".py",
   "mimetype": "text/x-python",
   "name": "python",
   "nbconvert_exporter": "python",
   "pygments_lexer": "ipython3",
   "version": "3.9.0"
  }
 },
 "nbformat": 4,
 "nbformat_minor": 5
}
